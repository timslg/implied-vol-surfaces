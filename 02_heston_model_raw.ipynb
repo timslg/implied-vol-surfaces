{
 "cells": [
  {
   "cell_type": "code",
   "execution_count": 55,
   "id": "a3387598-9cd8-4461-94d0-4b10426b0d65",
   "metadata": {
    "tags": []
   },
   "outputs": [],
   "source": [
    "import numpy as np\n",
    "import pandas as pd\n",
    "import matplotlib.pyplot as plt\n",
    "from scipy.integrate import quad\n",
    "from scipy.optimize import minimize\n",
    "import multiprocess as mp\n",
    "from functools import partial\n",
    "import os"
   ]
  },
  {
   "cell_type": "code",
   "execution_count": 2,
   "id": "6d5cdfd0-e125-4652-901c-93164bf2f523",
   "metadata": {
    "tags": []
   },
   "outputs": [],
   "source": [
    "import warnings\n",
    "warnings.filterwarnings(\"ignore\")"
   ]
  },
  {
   "cell_type": "code",
   "execution_count": 3,
   "id": "ad293230-c6a4-4bfe-9fec-5801260467bb",
   "metadata": {
    "tags": []
   },
   "outputs": [],
   "source": [
    "def parallelize(data, func, num_of_processes=7):\n",
    "    data_split = np.array_split(data, num_of_processes)\n",
    "    pool = mp.Pool(num_of_processes)\n",
    "    data = pd.concat(pool.map(func, data_split))\n",
    "    pool.close()\n",
    "    pool.join()\n",
    "    return data\n",
    "\n",
    "def run_on_subset(func, data_subset):\n",
    "    return data_subset.apply(func, axis=1)\n",
    "\n",
    "def parallelize_on_rows(data, func, num_of_processes=8):\n",
    "    return parallelize(data, partial(run_on_subset, func), num_of_processes)"
   ]
  },
  {
   "cell_type": "code",
   "execution_count": 4,
   "id": "607725ed-d3eb-4bd8-ab99-74b8bf9431bd",
   "metadata": {
    "tags": []
   },
   "outputs": [],
   "source": [
    "def heston_charfunc(phi, S0, v0, kappa, theta, sigma, rho, lambd, tau, r):\n",
    "    \n",
    "    a = kappa*theta\n",
    "    b = kappa+lambd   \n",
    "    rspi = rho*sigma*phi*1j   \n",
    "    d = np.sqrt( (rho*sigma*phi*1j - b)**2 + (phi*1j+phi**2)*sigma**2 )   \n",
    "    g = (b-rspi+d)/(b-rspi-d)\n",
    "    \n",
    "    exp1 = np.exp(r*phi*1j*tau)\n",
    "    term2 = S0**(phi*1j) * ( (1-g*np.exp(d*tau))/(1-g) )**(-2*a/sigma**2)\n",
    "    exp2 = np.exp(a*tau*(b-rspi+d)/sigma**2 + v0*(b-rspi+d)*( (1-np.exp(d*tau))/(1-g*np.exp(d*tau)) )/sigma**2)\n",
    "    return exp1*term2*exp2"
   ]
  },
  {
   "cell_type": "code",
   "execution_count": 5,
   "id": "95e93961-2ca6-468c-9edd-5e9b5096a7f9",
   "metadata": {
    "tags": []
   },
   "outputs": [],
   "source": [
    "def heston_price_rec(S0, K, v0, kappa, theta, sigma, rho, lambd, tau, r):\n",
    "    args = (S0, v0, kappa, theta, sigma, rho, lambd, tau, r)\n",
    "    \n",
    "    P, umax, N = 0, 100, 10000\n",
    "    dphi=umax/N\n",
    "    for i in range(1,N):\n",
    "        phi = dphi * (2*i + 1)/2\n",
    "        numerator = np.exp(r*tau)*heston_charfunc(phi-1j,*args) - K * heston_charfunc(phi,*args)\n",
    "        denominator = 1j*phi*K**(1j*phi)\n",
    "        \n",
    "        P += dphi * numerator/denominator\n",
    "        \n",
    "    return np.real((S0 - K*np.exp(-r*tau))/2 + P/np.pi)"
   ]
  },
  {
   "cell_type": "code",
   "execution_count": 6,
   "id": "f9fe9de6-6949-44df-afb1-47f96c7a7637",
   "metadata": {
    "tags": []
   },
   "outputs": [],
   "source": [
    "def integrand(phi, S0, v0, kappa, theta, sigma, rho, lambd, tau, r, K):\n",
    "    args = (S0, v0, kappa, theta, sigma, rho, lambd, tau, r)\n",
    "    numerator = np.exp(r*tau)*heston_charfunc(phi-1j,*args) - K*heston_charfunc(phi,*args)\n",
    "    denominator = 1j*phi*K**(1j*phi)\n",
    "    return numerator/denominator"
   ]
  },
  {
   "cell_type": "code",
   "execution_count": 7,
   "id": "fd47036a-dec6-4070-b011-d9d9ce5e5b59",
   "metadata": {
    "tags": []
   },
   "outputs": [],
   "source": [
    "def heston_price(S0, K, v0, kappa, theta, sigma, rho, lambd, tau, r):\n",
    "    args = (S0, v0, kappa, theta, sigma, rho, lambd, tau, r, K)\n",
    "    \n",
    "    real_integral, err = np.real( quad(integrand, 0, 100, args=args) )\n",
    "    \n",
    "    return (S0 - K*np.exp(-r*tau))/2 + real_integral/np.pi"
   ]
  },
  {
   "cell_type": "code",
   "execution_count": null,
   "id": "a4a89357-ddd9-4c8f-ac02-1743ab15e7f1",
   "metadata": {
    "tags": []
   },
   "outputs": [],
   "source": [
    "# Parameters to test model\n",
    "S0 = 3839.5 # initial asset price\n",
    "K = 3891.098104 # strike\n",
    "r = 0.050706-0.017072 # risk free rate\n",
    "tau = 1.0 # time to maturity\n",
    "heston_price( S0, K, v0, kappa, theta, sigma, rho, lambd, tau, r)"
   ]
  },
  {
   "cell_type": "code",
   "execution_count": 9,
   "id": "19249b2d-f740-475a-a543-96411e4a633c",
   "metadata": {
    "tags": []
   },
   "outputs": [],
   "source": [
    "df_full = pd.read_csv('../final_data/call_surfaces/2022-12-30.csv')"
   ]
  },
  {
   "cell_type": "code",
   "execution_count": 10,
   "id": "b4819d88-6434-4f8f-86c6-7ee2739861fb",
   "metadata": {
    "tags": []
   },
   "outputs": [],
   "source": [
    "df = df_full.sample(10)"
   ]
  },
  {
   "cell_type": "code",
   "execution_count": 11,
   "id": "b7806b86-ffe4-4e28-b59a-afe8fc2f0524",
   "metadata": {
    "tags": []
   },
   "outputs": [],
   "source": [
    "S0 = df['S_t'].values\n",
    "r = df['r'].values - df['q'].values\n",
    "K = df['K'].values\n",
    "tau = df['tau'].values\n",
    "P = df['call_price'].values\n",
    "\n",
    "params = {\"v0\": {\"x0\": 0.05, \"lbub\": [1e-3,0.1]}, \n",
    "          \"kappa\": {\"x0\": 3, \"lbub\": [1e-3,5]},\n",
    "          \"theta\": {\"x0\": 0.05, \"lbub\": [1e-3,0.1]},\n",
    "          \"sigma\": {\"x0\": 0.3, \"lbub\": [1e-2,1]},\n",
    "          \"rho\": {\"x0\": -0.8, \"lbub\": [-1,0]},\n",
    "          \"lambd\": {\"x0\": 0.12, \"lbub\": [-1,1]},\n",
    "          }\n",
    "x0 = [param[\"x0\"] for key, param in params.items()]\n",
    "bnds = [param[\"lbub\"] for key, param in params.items()]\n",
    "\n",
    "def obj(x):\n",
    "    v0, kappa, theta, sigma, rho, lambd = [param for param in x]\n",
    "    P_hat = np.fromiter((heston_price(S0[i], K[i], v0, kappa, theta, sigma, rho, lambd, tau[i], r[i]) for i in range(S0.shape[0])), dtype='float')\n",
    "    return np.sqrt(np.average(np.square(P_hat - P)))"
   ]
  },
  {
   "cell_type": "code",
   "execution_count": 12,
   "id": "49555bd9-dc8f-49b0-b5aa-9dfff77c6198",
   "metadata": {
    "tags": []
   },
   "outputs": [
    {
     "data": {
      "text/plain": [
       "3.8472750262381563"
      ]
     },
     "execution_count": 12,
     "metadata": {},
     "output_type": "execute_result"
    }
   ],
   "source": [
    "obj(x0)"
   ]
  },
  {
   "cell_type": "code",
   "execution_count": 13,
   "id": "a97b9e6f-226a-41af-acae-e63b1117afd7",
   "metadata": {
    "tags": []
   },
   "outputs": [],
   "source": [
    "result = minimize(obj, x0, tol = 1e-1, method='SLSQP', options={'maxiter': 1e2 }, bounds=bnds)"
   ]
  },
  {
   "cell_type": "code",
   "execution_count": 14,
   "id": "6d8321d3-3eb9-4a1e-8da5-171a7973c9cf",
   "metadata": {
    "tags": []
   },
   "outputs": [
    {
     "data": {
      "text/plain": [
       " message: Optimization terminated successfully\n",
       " success: True\n",
       "  status: 0\n",
       "     fun: 3.4176178379924\n",
       "       x: [ 4.778e-02  3.013e+00  4.778e-02  2.954e-01 -7.638e-01\n",
       "            1.598e-01]\n",
       "     nit: 1\n",
       "     jac: [ 6.579e+02 -2.801e-01  7.383e+02  1.014e-01 -8.822e-01\n",
       "           -1.258e+01]\n",
       "    nfev: 10\n",
       "    njev: 1"
      ]
     },
     "execution_count": 14,
     "metadata": {},
     "output_type": "execute_result"
    }
   ],
   "source": [
    "result"
   ]
  },
  {
   "cell_type": "code",
   "execution_count": 52,
   "id": "f1ee6ff3-8863-4c3b-b007-3b51fa5cce24",
   "metadata": {
    "tags": []
   },
   "outputs": [],
   "source": [
    "df_meta = pd.read_pickle('../mask/mask.pkl').dropna(axis=0)"
   ]
  },
  {
   "cell_type": "code",
   "execution_count": 72,
   "id": "64256028-af20-439d-a25b-f58279d5fde9",
   "metadata": {
    "tags": []
   },
   "outputs": [],
   "source": [
    "arr_h = os.listdir('../VAE/results')"
   ]
  },
  {
   "cell_type": "code",
   "execution_count": 79,
   "id": "4d89377b-a59d-4549-80a5-e9f2e2182c48",
   "metadata": {
    "tags": []
   },
   "outputs": [],
   "source": [
    "dates = np.char.replace(np.array(arr_h), '.csv', '')"
   ]
  },
  {
   "cell_type": "code",
   "execution_count": 95,
   "id": "ae1d7d76-22ae-4112-83b8-f2660fc32fc6",
   "metadata": {
    "tags": []
   },
   "outputs": [],
   "source": [
    "arr_done = os.listdir('results_2')"
   ]
  },
  {
   "cell_type": "code",
   "execution_count": 97,
   "id": "3c644be3-7cba-42e5-bf08-6e557f6d5620",
   "metadata": {
    "tags": []
   },
   "outputs": [],
   "source": [
    "dates_done = np.char.replace(np.array(arr_done), '.csv', '')"
   ]
  },
  {
   "cell_type": "code",
   "execution_count": 82,
   "id": "334c1b1b-a9b6-4dfc-9be2-af63986712f1",
   "metadata": {
    "tags": []
   },
   "outputs": [],
   "source": [
    "df_meta_sub = df_meta.loc[df_meta['date'].isin(dates)]"
   ]
  },
  {
   "cell_type": "code",
   "execution_count": 9,
   "id": "c96dc32b-b840-4a55-8039-917297e6a9c6",
   "metadata": {
    "tags": []
   },
   "outputs": [],
   "source": [
    "meta_test = df_meta.iloc[-1]"
   ]
  },
  {
   "cell_type": "code",
   "execution_count": 10,
   "id": "0b21977d-7653-4e04-a29a-4ab8f611c582",
   "metadata": {
    "tags": []
   },
   "outputs": [],
   "source": [
    "def read_df(meta):\n",
    "    df_vol_surface = pd.read_csv(f\"../final_data/call_surfaces_2/{meta['date']}.csv\")\n",
    "    return df_vol_surface"
   ]
  },
  {
   "cell_type": "code",
   "execution_count": 152,
   "id": "f444f529-698a-430f-8de4-d11c5b22f4f6",
   "metadata": {
    "tags": []
   },
   "outputs": [],
   "source": [
    "params = {\"v0\": {\"x0\": 0.05, \"lbub\": [1e-3,0.1]}, \n",
    "          \"kappa\": {\"x0\": 3, \"lbub\": [1e-3,5]},\n",
    "          \"theta\": {\"x0\": 0.05, \"lbub\": [1e-3,0.1]},\n",
    "          \"sigma\": {\"x0\": 0.3, \"lbub\": [1e-2,1]},\n",
    "          \"rho\": {\"x0\": -0.8, \"lbub\": [-1,0]},\n",
    "          \"lambd\": {\"x0\": 0.12, \"lbub\": [-1,1]},\n",
    "          }\n",
    "x0 = [param[\"x0\"] for key, param in params.items()]\n",
    "bnds = [param[\"lbub\"] for key, param in params.items()]\n",
    "\n",
    "def calc_params(df_vol_surface, mask=None):\n",
    "    \n",
    "    if type(mask) != type(None):\n",
    "        df_rel = df_vol_surface.iloc[mask]\n",
    "        \n",
    "    else:\n",
    "        df_rel = df_vol_surface\n",
    "        \n",
    "    S0 = df_rel['S_t'].values\n",
    "    r = df_rel['r'].values\n",
    "    K = df_rel['K'].values\n",
    "    tau = df_rel['tau'].values\n",
    "    P = df_rel['call_price'].values\n",
    "    \n",
    "    def obj(x):\n",
    "        v0, kappa, theta, sigma, rho, lambd = [param for param in x]\n",
    "        P_hat = np.fromiter((heston_price(S0[i], K[i], v0, kappa, theta, sigma, rho, lambd, tau[i], r[i]) for i in range(S0.shape[0])), dtype='float')\n",
    "        return np.average(np.square(P_hat - P))\n",
    "    \n",
    "    result = minimize(obj, x0, tol = 5e-2, method='SLSQP', options={'maxiter': 3e2 }, bounds=bnds)\n",
    "        \n",
    "    return (*result.x, result.status, result.fun)"
   ]
  },
  {
   "cell_type": "code",
   "execution_count": 155,
   "id": "5d5abd3b-79d5-407c-a12c-c0c74d6cca98",
   "metadata": {
    "tags": []
   },
   "outputs": [],
   "source": [
    "df = read_df(meta_test)"
   ]
  },
  {
   "cell_type": "code",
   "execution_count": null,
   "id": "517c2768-6240-4915-97c7-28382671d6a4",
   "metadata": {
    "tags": []
   },
   "outputs": [],
   "source": [
    "x = calc_params(df, mask=None)"
   ]
  },
  {
   "cell_type": "code",
   "execution_count": 168,
   "id": "697fe310-777b-4382-aeaf-f248dcbcb020",
   "metadata": {
    "tags": []
   },
   "outputs": [],
   "source": [
    "def calc_prices(df, v0, kappa, theta, sigma, rho, lambd):\n",
    "    S0 = df['S_t'].values\n",
    "    r = df['r'].values - df['q'].values\n",
    "    K = df['K'].values\n",
    "    tau = df['tau'].values\n",
    "    return np.fromiter((heston_price(S0[i], K[i], v0, kappa, theta, sigma, rho, lambd, tau[i], r[i]) for i in range(S0.shape[0])), dtype='float')"
   ]
  },
  {
   "cell_type": "code",
   "execution_count": 160,
   "id": "67718d4a-642e-4995-98ea-e9895bbd9d56",
   "metadata": {
    "tags": []
   },
   "outputs": [],
   "source": [
    "def full_process(meta):\n",
    "    m_s = meta.copy()\n",
    "    try:\n",
    "        df = read_df(meta)\n",
    "        df_new = df.copy()\n",
    "        for m_n in [10, 100, 350, 400]:\n",
    "            mask = np.random.choice(400, m_n,replace=False)\n",
    "            if m_n == 400:\n",
    "                result = calc_params(df)\n",
    "            else:\n",
    "                result = calc_params(df, mask=mask)\n",
    "\n",
    "            m_s[f'{m_n}_v0'] = result[0]\n",
    "            m_s[f'{m_n}_kappa'] = result[1]\n",
    "            m_s[f'{m_n}_theta'] = result[2]\n",
    "            m_s[f'{m_n}_sigma'] = result[3]\n",
    "            m_s[f'{m_n}_rho'] = result[4]\n",
    "            m_s[f'{m_n}_lambd'] = result[5]\n",
    "            m_s[f'{m_n}_status'] = result[6]\n",
    "            m_s[f'{m_n}_fun'] = result[7]\n",
    "\n",
    "            df_new[f'{m_n}_heston_price'] = calc_prices(df, result[0], result[1], result[2], result[3], result[4], result[5])\n",
    "            if not m_n == 400:\n",
    "                df_new[f'{m_n}_mask'] = df_new.index.isin(mask)\n",
    "\n",
    "        df_new['sigma'] = df['sigma']\n",
    "        df_new.to_csv(f\"results_3/{meta['date']}.csv\", index=False)\n",
    "        m_s['status'] = 'success'\n",
    "            \n",
    "    except Exception as e:\n",
    "        print(e)\n",
    "        m_s['status'] = 'error'\n",
    "        \n",
    "    return m_s"
   ]
  },
  {
   "cell_type": "code",
   "execution_count": 159,
   "id": "10f943e7-8fe1-48eb-abbb-265010175fca",
   "metadata": {
    "tags": []
   },
   "outputs": [
    {
     "data": {
      "text/plain": [
       "date                                                2022-11-01\n",
       "mask_10      [169, 392, 44, 347, 150, 200, 287, 346, 105, 288]\n",
       "mask_100     [142, 30, 74, 73, 179, 121, 36, 21, 223, 135, ...\n",
       "mask_350     [140, 37, 380, 134, 155, 194, 353, 14, 37, 117...\n",
       "10_v0                                                 0.052395\n",
       "10_kappa                                              2.596921\n",
       "10_theta                                              0.039811\n",
       "10_sigma                                               0.04518\n",
       "10_rho                                               -0.073524\n",
       "10_lambd                                              0.021505\n",
       "10_status                                                    0\n",
       "10_fun                                              282.759071\n",
       "status                                                 success\n",
       "Name: 4993, dtype: object"
      ]
     },
     "execution_count": 159,
     "metadata": {},
     "output_type": "execute_result"
    }
   ],
   "source": [
    "full_process(df_meta.loc[df_meta['date'] == '2022-11-01'].iloc[0])"
   ]
  },
  {
   "cell_type": "code",
   "execution_count": 161,
   "id": "50b6e257-2990-434d-ba73-50b05ee60e78",
   "metadata": {
    "tags": []
   },
   "outputs": [],
   "source": [
    "status_df = pd.read_pickle('status.pkl')"
   ]
  },
  {
   "cell_type": "code",
   "execution_count": 162,
   "id": "a9c6a471-d720-4ba8-8c76-bd8dc2285c2c",
   "metadata": {
    "tags": []
   },
   "outputs": [],
   "source": [
    "status_df = status_df.loc[pd.to_datetime(status_df['date']) >= '2013-01-01'][::-1]"
   ]
  },
  {
   "cell_type": "code",
   "execution_count": 163,
   "id": "81dede4d-24be-4db8-a457-f961fe5b9bab",
   "metadata": {
    "tags": []
   },
   "outputs": [],
   "source": [
    "status_df_sub = status_df.loc[df_meta['date'].isin(dates)]"
   ]
  },
  {
   "cell_type": "code",
   "execution_count": 164,
   "id": "708f6a27-c2a0-4d00-9691-b17ffb18fe07",
   "metadata": {
    "tags": []
   },
   "outputs": [],
   "source": [
    "status_df_sub_done = status_df_sub.loc[~status_df_sub['date'].isin(dates_done)].copy()"
   ]
  },
  {
   "cell_type": "code",
   "execution_count": 167,
   "id": "4cefa865-3f2d-4840-b203-a6cd2328b41e",
   "metadata": {
    "tags": []
   },
   "outputs": [],
   "source": [
    "res = parallelize_on_rows(status_df_sub, full_process)"
   ]
  },
  {
   "cell_type": "code",
   "execution_count": 170,
   "id": "4c8931bd-8cbd-4165-9c6b-97aa60bf57fa",
   "metadata": {
    "tags": []
   },
   "outputs": [],
   "source": [
    "res.to_pickle('status_3.pkl')"
   ]
  },
  {
   "cell_type": "code",
   "execution_count": 32,
   "id": "a070f8ac-b9af-40e5-ae40-9fc426415c88",
   "metadata": {
    "tags": []
   },
   "outputs": [],
   "source": [
    "import tqdm"
   ]
  },
  {
   "cell_type": "code",
   "execution_count": null,
   "id": "b5106336-2efe-4669-8968-6c17e44db89a",
   "metadata": {
    "tags": []
   },
   "outputs": [],
   "source": [
    "for i, status_df_sub in tqdm.tqdm(enumerate(np.array_split(status_df_sub, 25)), total=25, position=0, leave=True):\n",
    "    res = parallelize_on_rows(status_df_sub, full_process)\n",
    "    res.to_pickle(f'status/status_{i}.pkl')"
   ]
  },
  {
   "cell_type": "code",
   "execution_count": 535,
   "id": "571ddd7b-09d8-4c8f-98e3-30fdb9cffc54",
   "metadata": {
    "tags": []
   },
   "outputs": [],
   "source": [
    "df_meta.to_pickle('status.pkl')"
   ]
  }
 ],
 "metadata": {
  "kernelspec": {
   "display_name": "Python 3 (ipykernel)",
   "language": "python",
   "name": "python3"
  },
  "language_info": {
   "codemirror_mode": {
    "name": "ipython",
    "version": 3
   },
   "file_extension": ".py",
   "mimetype": "text/x-python",
   "name": "python",
   "nbconvert_exporter": "python",
   "pygments_lexer": "ipython3",
   "version": "3.11.6"
  }
 },
 "nbformat": 4,
 "nbformat_minor": 5
}
